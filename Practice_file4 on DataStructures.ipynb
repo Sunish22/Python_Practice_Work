{
 "cells": [
  {
   "cell_type": "markdown",
   "metadata": {},
   "source": [
    "### Even numbers in a list\n",
    "#### Description\n",
    "Given a list of integers, write a python code to find all the even numbers present in the list.\n",
    "##### Note: Try using lambda and filter functions to solve the problem.\n",
    "\n",
    "#### Input: A list of integers\n",
    "#### Output: A list of integers\n",
    "\n",
    "##### Sample input: [5, 7, 22, 97, 54, 62, 77, 23, 73, 61] \n",
    "\n",
    "##### Sample output: [22, 54, 62]\n",
    "\n",
    "##### Sample input: [500, 789, 2112, 9097, 5894, 9062, 8977, 1223, 773, 600]\n",
    "\n",
    "##### Sample output: [500, 2112, 5894, 9062, 600]"
   ]
  },
  {
   "cell_type": "code",
   "execution_count": 92,
   "metadata": {},
   "outputs": [
    {
     "name": "stdout",
     "output_type": "stream",
     "text": [
      "[5, 7, 22, 97, 54, 62, 77, 23, 73, 61]\n",
      "[5, 7, 22, 97, 54, 62, 77, 23, 73, 61]\n",
      "[22, 54, 62]\n"
     ]
    }
   ],
   "source": [
    "import ast\n",
    "inp_lst = input()\n",
    "inp_lst = ast.literal_eval(inp_lst)\n",
    "\n",
    "result = list(filter(lambda x : (x%2 ==0) , inp_lst))\n",
    "print(result)"
   ]
  },
  {
   "cell_type": "markdown",
   "metadata": {},
   "source": [
    "### Triple the list elements\n",
    "#### Description\n",
    "Given a list of integers, write a python code to triple all the values in the list.\n",
    "\n",
    "##### Note: Try using lambda and map functions to solve the problem.\n",
    "\n",
    "#### Input: A list of integers\n",
    "\n",
    "#### Output: A list of integers\n",
    "\n",
    "##### Sample input: [5, 7, 22, 97, 54, 62, 77, 23, 73, 61]\n",
    "\n",
    "##### Output: [15, 21, 66, 291, 162, 186, 231, 69, 219, 183]\n",
    "\n",
    "##### Sample input: [15, 71, 2, 9, 5, 6, 11, 3, 7, 6]\n",
    "\n",
    "##### Output: [45, 213, 6, 27, 15, 18, 33, 9, 21, 18]"
   ]
  },
  {
   "cell_type": "code",
   "execution_count": 96,
   "metadata": {},
   "outputs": [
    {
     "name": "stdout",
     "output_type": "stream",
     "text": [
      "[5, 7, 22, 97, 54, 62, 77, 23, 73, 61]\n",
      "[15, 21, 66, 291, 162, 186, 231, 69, 219, 183]\n"
     ]
    }
   ],
   "source": [
    "import ast\n",
    "inp_list = input()\n",
    "inp_list = ast.literal_eval(inp_list)\n",
    "\n",
    "result = list(map(lambda x : x*3 , inp_list))\n",
    "print(result)"
   ]
  },
  {
   "cell_type": "markdown",
   "metadata": {},
   "source": [
    "### Encrypt elements in a list\n",
    "#### Description\n",
    "A company stores the names of their employees in a list. They want to encrypt the names so that no one can read them and the data stays safe. One of the steps in encrypting is to reverse each name in the list and convert them to uppercase and your task is to write a Python code to execute the same.\n",
    "\n",
    "##### Note: Use lambda and map functions.\n",
    "\n",
    "#### Input: A list of names\n",
    "\n",
    "#### Output: A list of encrypted names\n",
    "\n",
    "##### Sample input: ['Ronaldo', 'Cristiano', 'Rakesh', 'Ronak']\n",
    "\n",
    "##### Sample output: ['ODLANOR', 'ONAITSIRC', 'HSEKAR', 'KANOR']\n",
    "\n",
    "##### Sample input: ['Abhay', 'Aravind', 'Desilva', 'Darpan']\n",
    "\n",
    "##### Sample output: ['YAHBA', 'DNIVARA', 'AVLISED', 'NAPRAD']"
   ]
  },
  {
   "cell_type": "code",
   "execution_count": 99,
   "metadata": {},
   "outputs": [
    {
     "name": "stdout",
     "output_type": "stream",
     "text": [
      "['Ronaldo', 'Cristiano', 'Rakesh', 'Ronak']\n",
      "['Ronaldo', 'Cristiano', 'Rakesh', 'Ronak']\n",
      "['ODLANOR', 'ONAITSIRC', 'HSEKAR', 'KANOR']\n"
     ]
    }
   ],
   "source": [
    "import ast\n",
    "inp_list = input()\n",
    "inp_list = ast.literal_eval(inp_list)\n",
    "print(inp_list)\n",
    "\n",
    "result = list(map(lambda x : x[::-1].upper() , inp_list))\n",
    "print(result)"
   ]
  },
  {
   "cell_type": "code",
   "execution_count": 101,
   "metadata": {},
   "outputs": [
    {
     "name": "stdout",
     "output_type": "stream",
     "text": [
      "['Abhay', 'Aravind', 'Desilva', 'Darpan']\n",
      "['YAHBA', 'DNIVARA', 'AVLISED', 'NAPRAD']\n"
     ]
    }
   ],
   "source": [
    "import ast\n",
    "\n",
    "input_lst = input()\n",
    "names= ast.literal_eval(input_lst)\n",
    "  \n",
    "#here, we intend to change all names by reversing the string and converting  them to upper case\n",
    "encode_names = list(map(lambda name: str.upper(name[::-1]), names)) \n",
    "  \n",
    "print(encode_names)"
   ]
  },
  {
   "cell_type": "markdown",
   "metadata": {},
   "source": [
    "### Sorting a dictionary\n",
    "#### Description\n",
    "Given is a list consisting of dictionary elements. Each dictionary contains the name of a student as a first item and his/her corresponding rank as the second item. Your task is to write a Python program to print the list (dictionary elements) in a sorted ascending order according to student ranks. In case the rank of two or more students are the same, then sort them in ascending order (alphabetically) according to their names.\n",
    "\n",
    "##### Note: Use the sorted() function to solve the question.\n",
    "\n",
    "##### Input: Dictionary\n",
    "\n",
    "##### Output: Dictionary\n",
    "\n",
    "##### Sample input: [{ \"name\" : \"Arpit\", \"rank\" : 20}, { \"name\" : \"Manjeet\", \"rank\" : 20 },{ \"name\" : \"Aravind\" , \"rank\" : 19 }]\n",
    "\n",
    "##### Sample output: [{ \"name\" : \"Aravind\" , \"rank\" : 19 }, { \"name\" : \"Arpit\", \"rank\" : 20}, { \"name\" : \"Manjeet\", \"rank\" : 20 }]\n",
    "\n",
    "##### Sample input: [{ \"name\" : \"Mohan\", \"rank\" : 2}, { \"name\" : \"Mandeep\", \"rank\" : 2 }, { \"name\" : \"Merut\" , \"rank\" : 2 }]\n",
    "\n",
    "##### Sample output: [{'name': 'Mandeep', 'rank': 2}, {'name': 'Merut', 'rank': 2}, {'name': 'Mohan', 'rank': 2}]"
   ]
  },
  {
   "cell_type": "code",
   "execution_count": 115,
   "metadata": {},
   "outputs": [
    {
     "name": "stdout",
     "output_type": "stream",
     "text": [
      "[{ \"name\" : \"Mohan\", \"rank\" : 2}, { \"name\" : \"Mandeep\", \"rank\" : 2 }, { \"name\" : \"Merut\" , \"rank\" : 2 }]\n",
      "[{'name': 'Mandeep', 'rank': 2}, {'name': 'Merut', 'rank': 2}, {'name': 'Mohan', 'rank': 2}]\n"
     ]
    }
   ],
   "source": [
    "import ast\n",
    "inp_dict = input()\n",
    "inp_dict = ast.literal_eval(inp_dict)\n",
    "\n",
    "result = sorted(inp_dict, key = lambda x : (x['rank'] , x['name']) )\n",
    "print(result)"
   ]
  },
  {
   "cell_type": "code",
   "execution_count": 106,
   "metadata": {},
   "outputs": [
    {
     "name": "stdout",
     "output_type": "stream",
     "text": [
      "[{ \"name\" : \"Arpit\", \"rank\" : 20}, { \"name\" : \"Manjeet\", \"rank\" : 20 },{ \"name\" : \"Aravind\" , \"rank\" : 19 }]\n",
      "[{'name': 'Aravind', 'rank': 19}, {'name': 'Arpit', 'rank': 20}, {'name': 'Manjeet', 'rank': 20}]\n"
     ]
    }
   ],
   "source": [
    "import ast\n",
    "\n",
    "#read the input here. \n",
    "list_of_dict = ast.literal_eval(input())\n",
    "\n",
    "#sort the dictionary based on the rank and then by name \n",
    "print(sorted(list_of_dict, key = lambda dictionary: (dictionary['rank'], dictionary['name'])))"
   ]
  },
  {
   "cell_type": "markdown",
   "metadata": {},
   "source": [
    "### Intersection of lists\n",
    "#### Description\n",
    "In ‘ABC’ university, company ‘XYZ’ conducted three rounds of interviews to recruit students. Those students who passed all the rounds were selected. The company released the results for each round in a separate list. Your task is to write a Python code to display the list of the students who passed all the three rounds.\n",
    "\n",
    "##### Note: \n",
    "a. Name of the person can be given in uppercase or lowercase.\n",
    "\n",
    "b. Print the names in lowercase in the output.\n",
    "\n",
    "##### Input: List\n",
    "List\n",
    "\n",
    "List\n",
    "\n",
    "##### Output: List\n",
    "\n",
    "##### Sample input: \n",
    "['Arkam', 'Bairstow', 'Cairy', 'Darpan'] \n",
    "\n",
    "['ARKAM', 'Bairstow', 'Cairy', 'Darpan', 'Dhoni', 'Sachin']\n",
    "\n",
    "['arkam', 'bairstow', 'Cheteshwar', 'Dinesh']\n",
    "\n",
    "        \n",
    "##### Sample output: \n",
    "['arkam', 'bairstow']\n",
    "\n",
    "\n",
    "##### Sample input: \n",
    "['Pranay', 'Aditya', 'Deepesh', 'Sandesh']\n",
    "\n",
    "['Pranoy', 'Surya', 'Cairy', 'Vignesh', 'ADITYA', 'SANDesh']\n",
    "\n",
    "['Vardhan', 'Shailesh', 'aditya', 'sandesh']\n",
    "\n",
    "        \n",
    "##### Sample output: \n",
    "['aditya', 'sandesh']\n",
    "\n",
    "\n",
    "##### Sample input: \n",
    "['Siddharth', 'Gaurav', 'Prasad', 'Kuldeep', 'karna']\n",
    "\n",
    "['siddharth', 'Gaurav', 'Prasad', 'Kuldeep', 'karna']\n",
    "\n",
    "['Siddharth', 'gaurav', 'PRASAD', 'KuLDEEp', 'KARNA']\n",
    "\n",
    "##### Sample output: \n",
    "['siddharth', 'gaurav', 'prasad', 'kuldeep', 'karna']"
   ]
  },
  {
   "cell_type": "code",
   "execution_count": 126,
   "metadata": {},
   "outputs": [
    {
     "name": "stdout",
     "output_type": "stream",
     "text": [
      "['Pranay', 'Aditya', 'Deepesh', 'Sandesh']\n",
      "['Pranoy', 'Surya', 'Cairy', 'Vignesh', 'ADITYA', 'SANDesh']\n",
      "['Vardhan', 'Shailesh', 'aditya', 'sandesh']\n",
      "['aditya', 'sandesh']\n"
     ]
    }
   ],
   "source": [
    "import ast\n",
    "list1 = ast.literal_eval(input())\n",
    "list2 = ast.literal_eval(input())\n",
    "list3 = ast.literal_eval(input())\n",
    "result = []\n",
    "\n",
    "for x in list1:\n",
    "    for y in list2:\n",
    "        for z in list3:\n",
    "            if x.lower() == y.lower() == z.lower():\n",
    "                result.append(x.lower())\n",
    "print(result)"
   ]
  },
  {
   "cell_type": "code",
   "execution_count": 127,
   "metadata": {},
   "outputs": [
    {
     "name": "stdout",
     "output_type": "stream",
     "text": [
      "['Arkam', 'Bairstow', 'Cairy', 'Darpan']\n",
      "['ARKAM', 'Bairstow', 'Cairy', 'Darpan', 'Dhoni', 'Sachin']\n",
      "['arkam', 'bairstow', 'Cheteshwar', 'Dinesh']\n",
      "['arkam', 'bairstow']\n"
     ]
    }
   ],
   "source": [
    "import ast\n",
    "input_lst = input()\n",
    "round_1 = ast.literal_eval(input_lst )\n",
    "input_lst = input()\n",
    "round_2= ast.literal_eval(input_lst )\n",
    "input_lst = input()\n",
    "round_3= ast.literal_eval(input_lst )\n",
    "\n",
    "def interSection(list1,list2): \n",
    "\n",
    "    list1 = list(map(lambda name: name.lower(), list1))\n",
    "    list2 = list(map(lambda name: name.lower(), list2))\n",
    "\n",
    "    #use the filter function as the final list  is a subset.\n",
    "    #check for values that are present in both list1 and list2.\n",
    "\n",
    "    result = list(filter(lambda x: x in list1, list2))\n",
    "    return result\n",
    "\n",
    "\n",
    "intersection_round1_round2 = interSection(round_1,round_2)\n",
    "\n",
    "final_result = interSection(intersection_round1_round2,round_3)\n",
    "\n",
    "print(final_result)"
   ]
  },
  {
   "cell_type": "markdown",
   "metadata": {},
   "source": [
    "### Sorting a list of dictionary elements\n",
    "#### Description\n",
    "A teacher decided to divide the class into groups to conduct fun activities. Each group had one or more members in it. The data is provided in the form of a list with dictionary elements. The key and value in each dictionary correspond to the student’s roll number and his/her name.\n",
    "\n",
    "In case the length of two or more dictionaries are the same, then the dictionary that occurs first in the input list will also appear first among the other dictionaries of the same length.\n",
    "\n",
    "Your task is to write a Python program to sort the list in descending order with respect to the group strength.﻿\n",
    "\n",
    "##### Note: Use lambda and sorted functions to solve the question.\n",
    "\n",
    "#### Input: List\n",
    "\n",
    "#### Output: List\n",
    "\n",
    "##### Sample input: \n",
    "[{4: 'Viking', 9: 'Happy', 10: 'Tony', 2: 'Rogers'}, {12: 'Vikram', 19: 'Vipan'}, {3: 'Kohli'}, {1: 'Ronaldo', 29: 'Harish', 7: 'Ganesh'}]\n",
    "\n",
    "##### Sample output: \n",
    "[{4: 'Viking', 9: 'Happy', 10: 'Tony', 2: 'Rogers'}, {1: 'Ronaldo', 29: 'Harish', 7: 'Ganesh'}, {12: 'Vikram', 19: 'Vipan'}, {3: 'Kohli'}]\n",
    "\n",
    "\n",
    "##### Sample input:\n",
    "[{14: 'Darpan', 19: 'Harry', 10: 'Julia'}, {12: 'Ethan', 19: 'Rogers'}, {3: 'Kohli', 1: 'Neymar', 29: 'Sachin', 7: 'Ramesh'}]\n",
    "\n",
    "##### Sample output: \n",
    "[{3: 'Kohli', 1: 'Neymar', 29: 'Sachin', 7: 'Ramesh'}, {14: 'Darpan', 19: 'Harry', 10: 'Julia'}, {12: 'Ethan', 19: 'Rogers'}]"
   ]
  },
  {
   "cell_type": "code",
   "execution_count": 148,
   "metadata": {},
   "outputs": [
    {
     "name": "stdout",
     "output_type": "stream",
     "text": [
      "[{14: 'Darpan', 19: 'Harry', 10: 'Julia'}, {12: 'Ethan', 19: 'Rogers'}, {3: 'Kohli', 1: 'Neymar', 29: 'Sachin', 7: 'Ramesh'}]\n",
      "[{14: 'Darpan', 19: 'Harry', 10: 'Julia'}, {12: 'Ethan', 19: 'Rogers'}, {3: 'Kohli', 1: 'Neymar', 29: 'Sachin', 7: 'Ramesh'}]\n",
      "[{3: 'Kohli', 1: 'Neymar', 29: 'Sachin', 7: 'Ramesh'}, {14: 'Darpan', 19: 'Harry', 10: 'Julia'}, {12: 'Ethan', 19: 'Rogers'}]\n"
     ]
    }
   ],
   "source": [
    "import ast\n",
    "inp_list = input()\n",
    "inp_list = ast.literal_eval(inp_list)\n",
    "print(inp_list)\n",
    "result = sorted(inp_list, key = lambda x : len(x), reverse = True)\n",
    "print(result)"
   ]
  },
  {
   "cell_type": "markdown",
   "metadata": {},
   "source": [
    "### Filter a list with tuple elements\n",
    "#### Description\n",
    "Given is a list containing tuple elements. Filter the list with tuples containing all even numbers.\n",
    "\n",
    "#### Input: List\n",
    "\n",
    "#### Output: List\n",
    "\n",
    "\n",
    "##### Sample input: [(6, 4, 2, 8), (5, 6, 7, 6), (8, 0, 2), (7, )]\n",
    "\n",
    "##### Sample output: [(6, 4, 2, 8), (8, 0, 2)]\n",
    "\n",
    "\n",
    "##### Sample input: [(16, 41, 2224, 8234), (125, 566, 77, 236), (88, 100, 2342), (77, 234)]\n",
    "\n",
    "##### Sample output: [(88, 100, 2342)]"
   ]
  },
  {
   "cell_type": "code",
   "execution_count": 25,
   "metadata": {},
   "outputs": [
    {
     "name": "stdout",
     "output_type": "stream",
     "text": [
      "[(6, 4, 2, 8), (5, 6, 7, 6), (8, 0, 2), (7, )]\n",
      "[(6, 4, 2, 8), (8, 0, 2)]\n"
     ]
    }
   ],
   "source": [
    "import ast\n",
    "inp_lst = ast.literal_eval(input())\n",
    "lst = []\n",
    "\n",
    "for x in inp_lst:\n",
    "    flg = True\n",
    "    for y in x:\n",
    "        if y%2 !=0:\n",
    "            flg = False\n",
    "            break\n",
    "    if flg == True: lst.append(x)\n",
    "\n",
    "print(lst)"
   ]
  },
  {
   "cell_type": "markdown",
   "metadata": {},
   "source": [
    "### Largest substring among elements in a list\n",
    "#### Description\n",
    "You are given a list of string elements. You have to find the largest substring that is common in any of the two string elements present in this list. You will print the two string elements which have the largest common substring along with the corresponding substring as the output.\n",
    "\n",
    "##### Note:\n",
    "\n",
    "a. The case of the character should also match in the substring.\n",
    "\n",
    "b. Print the string with larger length first followed by the other string.\n",
    "\n",
    "c.  There will only be one pair of strings with the maximum common substring length.\n",
    "\n",
    "\n",
    "#### Input: List\n",
    "\n",
    "#### Output: String\n",
    "\n",
    "#### String\n",
    "\n",
    "\n",
    "##### Sample input: ['India', 'Alaska', 'Indiana Jones', 'Peru']\n",
    "\n",
    "##### Sample output: Indiana Jones, India\n",
    "\n",
    "  India\n",
    "\n",
    "\n",
    "\n",
    "##### Sample input: ['upGrad', 'substring', 'string', 'graduation', 'buttery', 'BUTTERY']\n",
    "\n",
    "##### Sample output: substring , string\n",
    "\n",
    "  string\n",
    "\n",
    "\n",
    "\n",
    "##### Sample input: ['StarWars-1', 'Galaxy', 'star', 'Wars-1']\n",
    "\n",
    "##### Sample output: StarWars-1, Wars-1\n",
    "\n",
    "  Wars-1\n",
    "\n"
   ]
  },
  {
   "cell_type": "code",
   "execution_count": 21,
   "metadata": {},
   "outputs": [
    {
     "name": "stdout",
     "output_type": "stream",
     "text": [
      "['India', 'Alaska', 'Indiana Jones', 'Peru']\n",
      "Indiana Jones, India\n",
      "India\n"
     ]
    }
   ],
   "source": [
    "import ast\n",
    "input_list=ast.literal_eval(input())\n",
    "flag =0\n",
    "for x in range(len(input_list)):\n",
    "    for y in range(x+1, len(input_list)):\n",
    "        if (x+1) != len(input_list) and input_list[x] in input_list[y]: \n",
    "            print(input_list[y]+', '+input_list[x])\n",
    "            flag = x\n",
    "        elif (x+1) != len(input_list) and  input_list[y] in input_list[x]:\n",
    "            print(input_list[x]+', '+input_list[y])\n",
    "            flag = y\n",
    "print(input_list[flag])"
   ]
  }
 ],
 "metadata": {
  "kernelspec": {
   "display_name": "Python 3",
   "language": "python",
   "name": "python3"
  },
  "language_info": {
   "codemirror_mode": {
    "name": "ipython",
    "version": 3
   },
   "file_extension": ".py",
   "mimetype": "text/x-python",
   "name": "python",
   "nbconvert_exporter": "python",
   "pygments_lexer": "ipython3",
   "version": "3.8.5"
  }
 },
 "nbformat": 4,
 "nbformat_minor": 4
}

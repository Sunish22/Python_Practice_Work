{
 "cells": [
  {
   "cell_type": "markdown",
   "metadata": {},
   "source": [
    "#### Take any number Input from the user and check if the number is equal, greater or less than 100"
   ]
  },
  {
   "cell_type": "code",
   "execution_count": 4,
   "metadata": {},
   "outputs": [
    {
     "name": "stdout",
     "output_type": "stream",
     "text": [
      "Please enter the number:150\n",
      "150 is greater than 100\n"
     ]
    }
   ],
   "source": [
    "input_num = int(input(\"Please enter the number:\"))\n",
    "if input_num < 100:\n",
    "    print(input_num, \"is less than 100\")\n",
    "elif input_num > 100:\n",
    "    print(input_num, \"is greater than 100\")\n",
    "else:\n",
    "    print(input_num, \"is equal to 100\")"
   ]
  },
  {
   "cell_type": "markdown",
   "metadata": {},
   "source": [
    "#### Write a Program which offer various discounts based on the purchase bill"
   ]
  },
  {
   "cell_type": "code",
   "execution_count": 7,
   "metadata": {},
   "outputs": [
    {
     "name": "stdout",
     "output_type": "stream",
     "text": [
      "Please enter your final bill amount:850.50\n",
      "850.5 Congratulations!! you won a gift voucher worthe Rs 200\n"
     ]
    }
   ],
   "source": [
    "bill_amount = float(input(\"Please enter your final bill amount:\"))\n",
    "if bill_amount >= 1000:\n",
    "    print(bill_amount, \"Congratulations!! you won a gift voucher worthe Rs 500\")\n",
    "elif bill_amount >= 500:\n",
    "    print(bill_amount, \"Congratulations!! you won a gift voucher worthe Rs 200\")\n",
    "elif bill_amount >= 250:\n",
    "    print(bill_amount, \"Congratulations!! you won a gift voucher worthe Rs 100\")\n",
    "else:\n",
    "    print(bill_amount, \"Sorry, no discount for you\")"
   ]
  },
  {
   "cell_type": "markdown",
   "metadata": {},
   "source": [
    "#### Nested if-else\n",
    "#### Take an input year from the user and check in below dictionary if \"New Zeland\" has made to the finals"
   ]
  },
  {
   "cell_type": "code",
   "execution_count": 25,
   "metadata": {},
   "outputs": [],
   "source": [
    "#Dictionary\n",
    "world_cups = {2019 : ['England', 'New Zealand'], 2015:[\"Australia\", \"New Zealand\"], 2011 : [\"India\", \"Sri Lanka\"], 2007: [\"Australia\", \"Sri Lanka\"], 2003: [\"Australia\", \"India\"]}"
   ]
  },
  {
   "cell_type": "code",
   "execution_count": 26,
   "metadata": {},
   "outputs": [
    {
     "data": {
      "text/plain": [
       "{2019: ['England', 'New Zealand'],\n",
       " 2015: ['Australia', 'New Zealand'],\n",
       " 2011: ['India', 'Sri Lanka'],\n",
       " 2007: ['Australia', 'Sri Lanka'],\n",
       " 2003: ['Australia', 'India']}"
      ]
     },
     "execution_count": 26,
     "metadata": {},
     "output_type": "execute_result"
    }
   ],
   "source": [
    "world_cups"
   ]
  },
  {
   "cell_type": "code",
   "execution_count": 11,
   "metadata": {},
   "outputs": [
    {
     "name": "stdout",
     "output_type": "stream",
     "text": [
      "dict_keys([2019, 2015, 2011, 2007, 2003])\n"
     ]
    }
   ],
   "source": [
    "print(world_cups.keys())"
   ]
  },
  {
   "cell_type": "code",
   "execution_count": 24,
   "metadata": {},
   "outputs": [
    {
     "data": {
      "text/plain": [
       "dict_values([['England', 'New Zealand'], ['Australia', 'New Zealand'], ['India', 'Sri Lanka'], ['Australia', 'Sri Lanka'], ['Australia', 'India']])"
      ]
     },
     "execution_count": 24,
     "metadata": {},
     "output_type": "execute_result"
    }
   ],
   "source": [
    "world_cups.values()"
   ]
  },
  {
   "cell_type": "code",
   "execution_count": 29,
   "metadata": {},
   "outputs": [
    {
     "data": {
      "text/plain": [
       "['England', 'New Zealand']"
      ]
     },
     "execution_count": 29,
     "metadata": {},
     "output_type": "execute_result"
    }
   ],
   "source": [
    "world_cups[2019]"
   ]
  },
  {
   "cell_type": "code",
   "execution_count": 36,
   "metadata": {},
   "outputs": [
    {
     "name": "stdout",
     "output_type": "stream",
     "text": [
      "Enter year to check New Zealand made it to Finals in 20th century : 2015\n",
      "Final teams were ['Australia', 'New Zealand'] -- New Zealand made it to Finals\n"
     ]
    }
   ],
   "source": [
    "year = int(input(\"Enter year to check New Zealand made it to Finals in 20th century : \"))\n",
    "\n",
    "if year in world_cups:\n",
    "    if \"New Zealand\" in world_cups[year]:\n",
    "        print(\"Final teams were\",world_cups[year],\"-- New Zealand made it to Finals\")\n",
    "    else:\n",
    "        print(\"Final teams were\",world_cups[year],\"-- New Zealand could not make it to Finals\")\n",
    "else:\n",
    "    print(\"World cup was not played in\", year)"
   ]
  },
  {
   "attachments": {
    "image-3.png": {
     "image/png": "[encoded data removed]"
    }
   },
   "cell_type": "markdown",
   "metadata": {},
   "source": [
    "#### Let us write a program to calculate Electricity bill - (accept number of units from user)\n",
    "\n",
    "![image-3.png](attachment:image-3.png)"
   ]
  },
  {
   "cell_type": "code",
   "execution_count": 57,
   "metadata": {},
   "outputs": [
    {
     "name": "stdout",
     "output_type": "stream",
     "text": [
      "Please enter the electricity units consumed500\n",
      "500 --- your bill amount is 3500 Rs\n"
     ]
    }
   ],
   "source": [
    "units = int(input(\"Please enter the electricity units consumed\"))\n",
    "\n",
    "if units <= 100:\n",
    "    print(unit,\"-- No charges\")\n",
    "elif units <= 200:\n",
    "    print(units,\"-- your bill amount is\", (units-100)*5,\"Rs\")\n",
    "else:\n",
    "    print(units, \"--- your bill amount is\", 500 + (units-200)*10, \"Rs\")"
   ]
  },
  {
   "cell_type": "markdown",
   "metadata": {},
   "source": [
    "### Loops and Iterations\n",
    "\n",
    "#### Create a Pin checker like we have in our phone or ATM and restrict the number of attempts"
   ]
  },
  {
   "cell_type": "code",
   "execution_count": 42,
   "metadata": {},
   "outputs": [
    {
     "name": "stdout",
     "output_type": "stream",
     "text": [
      "Please enter your 4 digit pin:4567\n",
      "Try again, Please enter your 4 digit pin:5698\n",
      "Try again, Please enter your 4 digit pin:4569\n"
     ]
    },
    {
     "ename": "SystemExit",
     "evalue": "Too many invalid attempts",
     "output_type": "error",
     "traceback": [
      "An exception has occurred, use %tb to see the full traceback.\n",
      "\u001b[1;31mSystemExit\u001b[0m\u001b[1;31m:\u001b[0m Too many invalid attempts\n"
     ]
    }
   ],
   "source": [
    "import sys\n",
    "\n",
    "pin = int(input(\"Please enter your 4 digit pin:\"))\n",
    "attempt_count = 1\n",
    "while pin != 1234:\n",
    "    if attempt_count >= 3:\n",
    "        sys.exit(\"Too many invalid attempts\")\n",
    "    else:\n",
    "        pin = int(input(\"Try again, Please enter your 4 digit pin:\"))\n",
    "    attempt_count +=1\n",
    "print(\"Pin validation is successfull\")"
   ]
  },
  {
   "cell_type": "markdown",
   "metadata": {},
   "source": [
    "#### Print the square of numbers for 1 to 10"
   ]
  },
  {
   "cell_type": "code",
   "execution_count": 12,
   "metadata": {},
   "outputs": [
    {
     "name": "stdout",
     "output_type": "stream",
     "text": [
      " the square of 1 is 1\n",
      " the square of 2 is 4\n",
      " the square of 3 is 9\n",
      " the square of 4 is 16\n",
      " the square of 5 is 25\n",
      " the square of 6 is 36\n",
      " the square of 7 is 49\n",
      " the square of 8 is 64\n",
      " the square of 9 is 81\n",
      " the square of 10 is 100\n"
     ]
    }
   ],
   "source": [
    "for i in range(1,11):\n",
    "    print(f' the square of {i} is {i*i}')"
   ]
  },
  {
   "cell_type": "markdown",
   "metadata": {},
   "source": [
    "#### Write a Program to print Prime and Non Prime numbers between 1 to 20 "
   ]
  },
  {
   "cell_type": "code",
   "execution_count": 18,
   "metadata": {},
   "outputs": [
    {
     "name": "stdout",
     "output_type": "stream",
     "text": [
      "1 is a prime number\n",
      "2 is a prime number\n",
      "3 is a prime number\n",
      "4 is not prime number\n",
      "5 is a prime number\n",
      "6 is not prime number\n",
      "7 is a prime number\n",
      "8 is not prime number\n",
      "9 is not prime number\n",
      "10 is not prime number\n",
      "11 is a prime number\n",
      "12 is not prime number\n",
      "13 is a prime number\n",
      "14 is not prime number\n",
      "15 is not prime number\n",
      "16 is not prime number\n",
      "17 is a prime number\n",
      "18 is not prime number\n",
      "19 is a prime number\n",
      "20 is not prime number\n"
     ]
    }
   ],
   "source": [
    "for n in range (1,21):\n",
    "    flag = True\n",
    "    for i in range (2,n):\n",
    "        if n % i == 0:\n",
    "            print(n, \"is not prime number\")\n",
    "            flag = False\n",
    "            break\n",
    "    if flag == True:\n",
    "        print(n, \"is a prime number\")    "
   ]
  },
  {
   "cell_type": "markdown",
   "metadata": {},
   "source": [
    "#### Print the table of 15"
   ]
  },
  {
   "cell_type": "code",
   "execution_count": 24,
   "metadata": {},
   "outputs": [
    {
     "name": "stdout",
     "output_type": "stream",
     "text": [
      " 15 * 1 = 15\n",
      " 15 * 2 = 30\n",
      " 15 * 3 = 45\n",
      " 15 * 4 = 60\n",
      " 15 * 5 = 75\n",
      " 15 * 6 = 90\n",
      " 15 * 7 = 105\n",
      " 15 * 8 = 120\n",
      " 15 * 9 = 135\n",
      " 15 * 10 = 150\n"
     ]
    }
   ],
   "source": [
    "table =15\n",
    "for i in range (1,11):\n",
    "    print(f' {table} * {i} = {table*i}' )"
   ]
  },
  {
   "cell_type": "markdown",
   "metadata": {},
   "source": [
    "#### Print the series\n",
    "1 \n",
    "\n",
    "1 2 \n",
    "\n",
    "1 2 3 \n",
    "\n",
    "1 2 3 4 \n",
    "\n",
    "1 2 3 4 5 "
   ]
  },
  {
   "cell_type": "code",
   "execution_count": 27,
   "metadata": {},
   "outputs": [
    {
     "name": "stdout",
     "output_type": "stream",
     "text": [
      "1 \n",
      "1 2 \n",
      "1 2 3 \n",
      "1 2 3 4 \n",
      "1 2 3 4 5 \n"
     ]
    }
   ],
   "source": [
    "for x in range(1,6):\n",
    "    for y in range(1,x+1):\n",
    "        print(y,end=' ') # printing y horizontaly here.\n",
    "    print() # here is line break"
   ]
  }
 ],
 "metadata": {
  "kernelspec": {
   "display_name": "Python 3",
   "language": "python",
   "name": "python3"
  },
  "language_info": {
   "codemirror_mode": {
    "name": "ipython",
    "version": 3
   },
   "file_extension": ".py",
   "mimetype": "text/x-python",
   "name": "python",
   "nbconvert_exporter": "python",
   "pygments_lexer": "ipython3",
   "version": "3.8.5"
  }
 },
 "nbformat": 4,
 "nbformat_minor": 4
}

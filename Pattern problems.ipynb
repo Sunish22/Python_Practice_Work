{
 "cells": [
  {
   "cell_type": "code",
   "execution_count": 4,
   "metadata": {},
   "outputs": [
    {
     "name": "stdout",
     "output_type": "stream",
     "text": [
      "Please enter the number of rows: 6\n",
      "1 \n",
      "1 2 \n",
      "1 2 3 \n",
      "1 2 3 4 \n",
      "1 2 3 4 5 \n",
      "1 2 3 4 5 6 \n"
     ]
    }
   ],
   "source": [
    "n = int(input(\"Please enter the number of rows: \"))\n",
    "for i in range(n):\n",
    "    for j in range(i+1):\n",
    "        print(j+1, end =\" \")\n",
    "    print()"
   ]
  },
  {
   "cell_type": "code",
   "execution_count": 14,
   "metadata": {},
   "outputs": [
    {
     "name": "stdout",
     "output_type": "stream",
     "text": [
      "Please enter the number of rows: 6\n",
      "1 \n",
      "2 1 \n",
      "3 2 1 \n",
      "4 3 2 1 \n",
      "5 4 3 2 1 \n",
      "6 5 4 3 2 1 \n"
     ]
    }
   ],
   "source": [
    "n = int(input(\"Please enter the number of rows: \"))\n",
    "for i in range(n):\n",
    "    for j in range(i,-1,-1):\n",
    "        print(j+1, end =\" \")\n",
    "    print()"
   ]
  },
  {
   "cell_type": "code",
   "execution_count": 15,
   "metadata": {},
   "outputs": [
    {
     "name": "stdout",
     "output_type": "stream",
     "text": [
      "Please enter the number of rows: 6\n",
      "1 \n",
      "2 2 \n",
      "3 3 3 \n",
      "4 4 4 4 \n",
      "5 5 5 5 5 \n",
      "6 6 6 6 6 6 \n"
     ]
    }
   ],
   "source": [
    "n = int(input(\"Please enter the number of rows: \"))\n",
    "for i in range(n):\n",
    "    for j in range(i+1):\n",
    "        print(i+1, end =\" \")\n",
    "    print()"
   ]
  },
  {
   "cell_type": "code",
   "execution_count": 16,
   "metadata": {},
   "outputs": [
    {
     "name": "stdout",
     "output_type": "stream",
     "text": [
      "Please enter the number of rows: 6\n",
      "6 \n",
      "5 5 \n",
      "4 4 4 \n",
      "3 3 3 3 \n",
      "2 2 2 2 2 \n",
      "1 1 1 1 1 1 \n"
     ]
    }
   ],
   "source": [
    "n = int(input(\"Please enter the number of rows: \"))\n",
    "for i in range(n):\n",
    "    for j in range(i+1):\n",
    "        print(n-i, end =\" \")\n",
    "    print()"
   ]
  },
  {
   "cell_type": "code",
   "execution_count": 17,
   "metadata": {},
   "outputs": [
    {
     "name": "stdout",
     "output_type": "stream",
     "text": [
      "Please enter the number of rows: 6\n",
      "6 \n",
      "6 5 \n",
      "6 5 4 \n",
      "6 5 4 3 \n",
      "6 5 4 3 2 \n",
      "6 5 4 3 2 1 \n"
     ]
    }
   ],
   "source": [
    "n = int(input(\"Please enter the number of rows: \"))\n",
    "for i in range(n):\n",
    "    for j in range(i+1):\n",
    "        print(n-j, end =\" \")\n",
    "    print()"
   ]
  },
  {
   "cell_type": "code",
   "execution_count": 18,
   "metadata": {},
   "outputs": [
    {
     "name": "stdout",
     "output_type": "stream",
     "text": [
      "Please enter the number of rows: 6\n",
      "6 \n",
      "5 6 \n",
      "4 5 6 \n",
      "3 4 5 6 \n",
      "2 3 4 5 6 \n",
      "1 2 3 4 5 6 \n"
     ]
    }
   ],
   "source": [
    "n = int(input(\"Please enter the number of rows: \"))\n",
    "for i in range(n):\n",
    "    for j in range(i,-1,-1):\n",
    "        print(n-j, end =\" \")\n",
    "    print()"
   ]
  },
  {
   "cell_type": "code",
   "execution_count": 24,
   "metadata": {},
   "outputs": [
    {
     "name": "stdout",
     "output_type": "stream",
     "text": [
      "Please enter the number of rows: 6\n",
      "            1 \n",
      "          1 2 \n",
      "        1 2 3 \n",
      "      1 2 3 4 \n",
      "    1 2 3 4 5 \n",
      "  1 2 3 4 5 6 \n"
     ]
    }
   ],
   "source": [
    "n = int(input(\"Please enter the number of rows: \"))\n",
    "for i in range(n):\n",
    "    for j in range(n-i-0):\n",
    "        print(\" \", end =\" \")\n",
    "    for j in range(i+1):\n",
    "        print(j+1, end =\" \")\n",
    "    print()"
   ]
  },
  {
   "cell_type": "code",
   "execution_count": 25,
   "metadata": {},
   "outputs": [
    {
     "name": "stdout",
     "output_type": "stream",
     "text": [
      "Please enter the number of rows: 6\n",
      "          1 \n",
      "        2 1 \n",
      "      3 2 1 \n",
      "    4 3 2 1 \n",
      "  5 4 3 2 1 \n",
      "6 5 4 3 2 1 \n"
     ]
    }
   ],
   "source": [
    "n = int(input(\"Please enter the number of rows: \"))\n",
    "for i in range(n):\n",
    "    for j in range(n-i-1):\n",
    "        print(\" \", end =\" \")\n",
    "    for j in range(i,-1,-1):\n",
    "        print(j+1, end =\" \")\n",
    "    print()"
   ]
  },
  {
   "cell_type": "code",
   "execution_count": 26,
   "metadata": {},
   "outputs": [
    {
     "name": "stdout",
     "output_type": "stream",
     "text": [
      "Please enter the number of rows: 6\n",
      "          1 \n",
      "        2 2 \n",
      "      3 3 3 \n",
      "    4 4 4 4 \n",
      "  5 5 5 5 5 \n",
      "6 6 6 6 6 6 \n"
     ]
    }
   ],
   "source": [
    "n = int(input(\"Please enter the number of rows: \"))\n",
    "for i in range(n):\n",
    "    for k in range(n-i-1):\n",
    "        print(\" \", end =\" \")\n",
    "    for j in range(i+1):\n",
    "        print(i+1, end =\" \")\n",
    "    print()"
   ]
  },
  {
   "cell_type": "code",
   "execution_count": 28,
   "metadata": {},
   "outputs": [
    {
     "name": "stdout",
     "output_type": "stream",
     "text": [
      " ** ** \n",
      "*  *  *\n",
      "*     *\n",
      " *   * \n",
      "  * *  \n",
      "   *   \n"
     ]
    }
   ],
   "source": [
    "for row in range(6):\n",
    "    for col in range(7):\n",
    "        if (row == 0 and col%3 != 0) or (row==1 and col%3 == 0) or (row-col == 2) or (row+col == 8):\n",
    "            print(\"*\",end =\"\")\n",
    "        else:\n",
    "            print(\" \", end =\"\") #print(end=\" \")\n",
    "    print()"
   ]
  },
  {
   "cell_type": "code",
   "execution_count": 36,
   "metadata": {},
   "outputs": [
    {
     "name": "stdout",
     "output_type": "stream",
     "text": [
      "Please enter the number of rows: 6\n",
      "A \n",
      "B C \n",
      "D E F \n",
      "G H I J \n",
      "K L M N O \n",
      "P Q R S T U \n"
     ]
    }
   ],
   "source": [
    "n = int(input(\"Please enter the number of rows: \"))\n",
    "k = ord(\"A\")\n",
    "for i in range(n):\n",
    "    for j in range(i+1):\n",
    "        print(chr(k), end = \" \")\n",
    "        k = k+1\n",
    "    print()"
   ]
  },
  {
   "cell_type": "code",
   "execution_count": 37,
   "metadata": {},
   "outputs": [
    {
     "name": "stdout",
     "output_type": "stream",
     "text": [
      "Please enter the number of rows: 6\n",
      "A \n",
      "B C \n",
      "C D E \n",
      "D E F G \n",
      "E F G H I \n",
      "F G H I J K \n"
     ]
    }
   ],
   "source": [
    "n = int(input(\"Please enter the number of rows: \"))\n",
    "for i in range(n):\n",
    "    k = ord(\"A\")+ i\n",
    "    for j in range(i+1):\n",
    "        print(chr(k), end = \" \")\n",
    "        k = k+1\n",
    "    print()"
   ]
  },
  {
   "cell_type": "code",
   "execution_count": 43,
   "metadata": {},
   "outputs": [
    {
     "name": "stdout",
     "output_type": "stream",
     "text": [
      "Please enter the string: python\n",
      "p\n",
      "py\n",
      "pyt\n",
      "pyth\n",
      "pytho\n",
      "python\n"
     ]
    }
   ],
   "source": [
    "string = input(\"Please enter the string: \")\n",
    "length = len(string)\n",
    "for row in range(length):\n",
    "    for col in range(row+1):\n",
    "        print(string[col], end =\"\")\n",
    "    print()"
   ]
  },
  {
   "cell_type": "code",
   "execution_count": null,
   "metadata": {},
   "outputs": [],
   "source": []
  }
 ],
 "metadata": {
  "kernelspec": {
   "display_name": "Python 3",
   "language": "python",
   "name": "python3"
  },
  "language_info": {
   "codemirror_mode": {
    "name": "ipython",
    "version": 3
   },
   "file_extension": ".py",
   "mimetype": "text/x-python",
   "name": "python",
   "nbconvert_exporter": "python",
   "pygments_lexer": "ipython3",
   "version": "3.8.5"
  }
 },
 "nbformat": 4,
 "nbformat_minor": 4
}

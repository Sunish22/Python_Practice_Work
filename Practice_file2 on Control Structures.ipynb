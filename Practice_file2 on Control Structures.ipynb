{
 "cells": [
  {
   "cell_type": "markdown",
   "metadata": {},
   "source": [
    "### Description\n",
    "#### Write a program to display whether the input is a digit or a letter of the alphabet.\n",
    "#### Input:\n",
    "A digit or a letter of the alphabet\n",
    "##### Output:\n",
    "Displays whether the given output is an integer or a letter of the alphabet\n",
    "#### ------------------------------------------------------------------------------------------------------------------------------------\n",
    "##### Sample input:\n",
    "1\n",
    "##### Sample output:\n",
    "Integer\n",
    "###### -----------------------------------\n",
    "##### Sample input:\n",
    "b\n",
    "##### Sample output:\n",
    "Alphabet"
   ]
  },
  {
   "cell_type": "code",
   "execution_count": 3,
   "metadata": {},
   "outputs": [
    {
     "name": "stdout",
     "output_type": "stream",
     "text": [
      "5\n",
      "Integer\n"
     ]
    }
   ],
   "source": [
    "# Solution 1\n",
    "inp=input()\n",
    "if (inp.isalpha()):\n",
    "    print(\"Alphabet\") \n",
    "else:\n",
    "    print(\"Integer\")"
   ]
  },
  {
   "cell_type": "code",
   "execution_count": 13,
   "metadata": {},
   "outputs": [
    {
     "name": "stdout",
     "output_type": "stream",
     "text": [
      "S\n",
      "Alphabet\n"
     ]
    }
   ],
   "source": [
    "# Solution 1\n",
    "inp=input()\n",
    "if ord(inp.lower()) >=48 and ord(inp.lower()) <=57:\n",
    "    print(\"Integer\")\n",
    "elif ord(inp.lower()) >=97 and ord(inp.lower()) <=122:\n",
    "    print(\"Alphabet\")"
   ]
  },
  {
   "cell_type": "markdown",
   "metadata": {},
   "source": [
    "### ASCII values\n",
    "#### Description\n",
    "Write a program to accept a character and display its next and previous character. \n",
    "\n",
    "##### Input:\n",
    "A character\n",
    "\n",
    "##### Output:\n",
    "Previous character and the next character of the given character\n",
    "\n",
    "#### -----------------------------------------------------------------------------------------------------------------------------------\n",
    "\n",
    "##### Sample input:\n",
    "\n",
    "D\n",
    "\n",
    "##### Sample output:\n",
    "C\n",
    "\n",
    "E\n",
    "\n",
    "##### Sample input:\n",
    "\n",
    "8\n",
    "\n",
    "##### Sample output:\n",
    "\n",
    "7\n",
    "\n",
    "9\n",
    "\n",
    "##### Sample input:\n",
    "\n",
    "@\n",
    "\n",
    "##### Sample Output: \n",
    "\n",
    "?\n",
    "\n",
    "A"
   ]
  },
  {
   "cell_type": "code",
   "execution_count": 15,
   "metadata": {},
   "outputs": [
    {
     "name": "stdout",
     "output_type": "stream",
     "text": [
      "D\n",
      "C\n",
      "E\n"
     ]
    }
   ],
   "source": [
    "# Solution#1\n",
    "inp = input()\n",
    "for i in inp:\n",
    "    y = ord(i)\n",
    "    print(chr(y-1))\n",
    "    print(chr(y+1))"
   ]
  },
  {
   "cell_type": "code",
   "execution_count": 18,
   "metadata": {},
   "outputs": [
    {
     "name": "stdout",
     "output_type": "stream",
     "text": [
      "@\n",
      "?\n",
      "A\n"
     ]
    }
   ],
   "source": [
    "# Solution#2\n",
    "ch=input()\n",
    "print(chr(ord(ch)-1))\n",
    "print(chr(ord(ch)+1))"
   ]
  },
  {
   "cell_type": "markdown",
   "metadata": {},
   "source": [
    "### No Vowels\n",
    "#### Description\n",
    "Write a program to accept a string from the user, delete all vowels from the string and display the result. \n",
    "\n",
    "#### Input:\n",
    "A string\n",
    "\n",
    "#### Output:\n",
    "A string with vowels removed\n",
    "\n",
    "#### ----------------------------------\n",
    "\n",
    "#### Sample input:\n",
    "Practice\n",
    "\n",
    "#### Sample output:\n",
    "Prctc\n",
    "\n",
    "#### Sample input:\n",
    "Python Programming\n",
    "\n",
    "#### Sample output:\n",
    "Pythn Prgrmmng"
   ]
  },
  {
   "cell_type": "code",
   "execution_count": 20,
   "metadata": {},
   "outputs": [
    {
     "name": "stdout",
     "output_type": "stream",
     "text": [
      "Practice\n",
      "Prctc\n"
     ]
    }
   ],
   "source": [
    "#Solution 1\n",
    "s=input()\n",
    "s_new=''\n",
    "for i in range(len(s)):\n",
    "    if s[i] not in \"AEIOUaeiou\":\n",
    "        s_new=s_new+s[i]\n",
    "print(s_new)"
   ]
  },
  {
   "cell_type": "code",
   "execution_count": 21,
   "metadata": {},
   "outputs": [
    {
     "name": "stdout",
     "output_type": "stream",
     "text": [
      "Python Programming\n",
      "Pythn Prgrmmng"
     ]
    }
   ],
   "source": [
    "# Solution 2\n",
    "s=input()\n",
    "chk = 'aeiouAEIOU'\n",
    "for i in s:\n",
    "    if i not in chk:\n",
    "        print(i, end=\"\")"
   ]
  },
  {
   "cell_type": "markdown",
   "metadata": {},
   "source": [
    "### Valid triangle\n",
    "#### Description\n",
    "Write a program to accept three sides of a triangle as the input and print whether the triangle is valid or not.\n",
    "(A triangle is valid if the sum of any two sides is greater than the third side.)\n",
    "\n",
    "#### Input:\n",
    "Three sides of a triangle separated by a space\n",
    "\n",
    "#### Output:\n",
    "Whether the given triangle is \"Valid\" or \"Invalid\"\n",
    "\n",
    "#### -------------------------------------------------------------\n",
    "\n",
    "#### Sample input:\n",
    "3 4 5\n",
    "\n",
    "#### Sample output:\n",
    "Valid\n",
    "\n",
    "#### Sample input:\n",
    "1 4 5\n",
    "\n",
    "#### Sample output:\n",
    "Invalid"
   ]
  },
  {
   "cell_type": "code",
   "execution_count": 23,
   "metadata": {},
   "outputs": [
    {
     "name": "stdout",
     "output_type": "stream",
     "text": [
      "5 5 5\n",
      "Valid\n"
     ]
    }
   ],
   "source": [
    "#Take inputs\n",
    "a,b,c=input().split()\n",
    "\n",
    "#Convert string to float type\n",
    "a=float(a)\n",
    "b=float(b)\n",
    "c=float(c)\n",
    "\n",
    "#check if the all possible sum of two sides is greater than the third side\n",
    "\n",
    "if b+c>a and a+c>b and a+b>c:\n",
    "    print(\"Valid\")\n",
    "\n",
    "else:\n",
    "    print(\"Invalid\")"
   ]
  },
  {
   "cell_type": "markdown",
   "metadata": {},
   "source": [
    "### Multiplication Table\n",
    "#### Description\n",
    "Write a program to display the multiplication table of a given number.\n",
    "\n",
    "#### Input:\n",
    "A positive integer\n",
    "#### Output:\n",
    "Multiplication table\n",
    "#### ----------------------------------------------------------------------------------------------------------\n",
    "#### Sample input:\n",
    "5\n",
    "#### Sample output:\n",
    "5 * 1 = 5\n",
    "\n",
    "5 * 2 = 10\n",
    "\n",
    "5 * 3 = 15\n",
    "\n",
    "5 * 4 = 20\n",
    "\n",
    "5 * 5 = 25\n",
    "\n",
    "5 * 6 = 30\n",
    "\n",
    "5 * 7 = 35\n",
    "\n",
    "5 * 8 = 40\n",
    "\n",
    "5 * 9 = 45\n",
    "\n",
    "5 * 10 = 50"
   ]
  },
  {
   "cell_type": "code",
   "execution_count": 24,
   "metadata": {},
   "outputs": [
    {
     "name": "stdout",
     "output_type": "stream",
     "text": [
      "6\n",
      "6 * 1 = 6\n",
      "6 * 2 = 12\n",
      "6 * 3 = 18\n",
      "6 * 4 = 24\n",
      "6 * 5 = 30\n",
      "6 * 6 = 36\n",
      "6 * 7 = 42\n",
      "6 * 8 = 48\n",
      "6 * 9 = 54\n",
      "6 * 10 = 60\n"
     ]
    }
   ],
   "source": [
    "#Solution1\n",
    "n=int(input())\n",
    "for i in range(1,11):\n",
    "    print(f'{n} * {i} = {n*i}')"
   ]
  },
  {
   "cell_type": "code",
   "execution_count": 25,
   "metadata": {},
   "outputs": [
    {
     "name": "stdout",
     "output_type": "stream",
     "text": [
      "8\n",
      "8 * 1 = 8\n",
      "8 * 2 = 16\n",
      "8 * 3 = 24\n",
      "8 * 4 = 32\n",
      "8 * 5 = 40\n",
      "8 * 6 = 48\n",
      "8 * 7 = 56\n",
      "8 * 8 = 64\n",
      "8 * 9 = 72\n",
      "8 * 10 = 80\n"
     ]
    }
   ],
   "source": [
    "#Solution2\n",
    "n=int(input())\n",
    "for i in range(1,11):\n",
    "    print(\"{0} * {1} =\".format(n,i),n*i)"
   ]
  },
  {
   "cell_type": "markdown",
   "metadata": {},
   "source": [
    "### Character frequency\n",
    "#### Description\n",
    "Write a program to accept a string value from the user and accept a char value from the user and find out the total occurrence of the char value in the string value. Note that the count is not case-sensitive\n",
    "#### Input:\n",
    "A string and a character whose occurrence is to be found\n",
    "#### Output:\n",
    "An integer\n",
    "#### -------------------------------------------------------------------------------------------------------\n",
    "#### Sample input:\n",
    "Python Programming\n",
    "\n",
    "P\n",
    "#### Sample output:\n",
    "2\n",
    "\n",
    "#### Sample input:\n",
    "This is my first program\n",
    "\n",
    "t\n",
    "#### Sample output:\n",
    "2"
   ]
  },
  {
   "cell_type": "code",
   "execution_count": 27,
   "metadata": {},
   "outputs": [
    {
     "name": "stdout",
     "output_type": "stream",
     "text": [
      "This is my first program\n",
      "t\n",
      "2\n"
     ]
    }
   ],
   "source": [
    "input_string=input()\n",
    "input_char=input()\n",
    "\n",
    "a = input_string.lower()\n",
    "b = input_char.lower()\n",
    "result = a.count(b)\n",
    "print(result)"
   ]
  },
  {
   "cell_type": "markdown",
   "metadata": {},
   "source": [
    "### Sum of digits\n",
    "#### Description\n",
    "Write a program to calculate the sum of the digits of a given number \n",
    "\n",
    "#### Input:\n",
    "An n digit number\n",
    "\n",
    "#### Output:\n",
    "Sum of the digits\n",
    "#### ----------------------------------------------------------------------------------\n",
    "#### Sample input:\n",
    "\n",
    "983\n",
    "\n",
    "#### Sample output:\n",
    "\n",
    "20\n",
    "\n",
    "\n",
    "#### Sample input:\n",
    "\n",
    "5241\n",
    "\n",
    "#### Sample output:\n",
    "\n",
    "12"
   ]
  },
  {
   "cell_type": "code",
   "execution_count": 29,
   "metadata": {},
   "outputs": [
    {
     "name": "stdout",
     "output_type": "stream",
     "text": [
      "786\n",
      "21\n"
     ]
    }
   ],
   "source": [
    "n=int(input())\n",
    "# write your code here\n",
    "result = 0\n",
    "while (n>0):\n",
    "    digit = n%10\n",
    "    result = result+digit\n",
    "    n = n//10\n",
    "print(result)"
   ]
  },
  {
   "cell_type": "markdown",
   "metadata": {},
   "source": [
    "### Count the digits\n",
    "#### Description\n",
    "Write a program to accept a number from the user and count the zeros, odd digits and non-zero even digits from the entered number.\n",
    "\n",
    "#### Input:\n",
    "A positive integer of n digits\n",
    "#### Output:\n",
    "Three integers representing the occurrences of zeros, odd digits and non-zero even digits from the entered number.\n",
    "#### ------------------------------------------------------------------------------------------------------------------------------------------------------------------------------\n",
    "\n",
    "#### Sample input:\n",
    "1030\n",
    "\n",
    "#### Sample output:\n",
    "Number of odd digits: 2\n",
    "\n",
    "Number of non-zero even digits: 0\n",
    "\n",
    "Number of zeros: 2"
   ]
  },
  {
   "cell_type": "code",
   "execution_count": 35,
   "metadata": {},
   "outputs": [
    {
     "name": "stdout",
     "output_type": "stream",
     "text": [
      "40230145069008741236\n",
      "Number of odd digits: 7\n",
      "Number of non-zero even digits: 8\n",
      "Number of zeros: 5\n"
     ]
    }
   ],
   "source": [
    "# Take input\n",
    "n=int(input())\n",
    "odd = 0\n",
    "non_zero = 0\n",
    "zeros = 0\n",
    "y = str(n)\n",
    "for i in y:\n",
    "    if int(i)>0 and int(i)%2 == 0:\n",
    "        non_zero +=1\n",
    "    elif int(i) %2 == 1:\n",
    "        odd +=1\n",
    "    elif int(i) == 0:\n",
    "        zeros +=1\n",
    "    else:\n",
    "        print()\n",
    "print(\"Number of odd digits:\",odd)\n",
    "print(\"Number of non-zero even digits:\",non_zero)\n",
    "print(\"Number of zeros:\",zeros)"
   ]
  },
  {
   "cell_type": "markdown",
   "metadata": {},
   "source": [
    "### String manipulation\n",
    "#### Description\n",
    "Write a program that takes a string as the input and does the following:\n",
    "    -Removes the numbers, special characters\n",
    "    -Converts uppercase letters to lowercase letters, and vice versa \n",
    "\n",
    "#### Input:\n",
    "A string \n",
    "\n",
    "#### Output:\n",
    "\n",
    "A string with numbers, special characters removed, upper and lower cases swapped\n",
    "#### ----------------------------------------------------------------------------------------------------------------------------------------\n",
    "#### Sample input:\n",
    "Programming1234\n",
    "#### Sample output:\n",
    "pROGRAMMING\n",
    "\n",
    "#### Sample input:\n",
    "Programming is 100% fun\n",
    "\n",
    "#### Sample output:\n",
    "pROGRAMMINGISFUN"
   ]
  },
  {
   "cell_type": "code",
   "execution_count": 36,
   "metadata": {},
   "outputs": [
    {
     "name": "stdout",
     "output_type": "stream",
     "text": [
      "Programming is 100% fun\n",
      "pROGRAMMINGISFUN\n"
     ]
    }
   ],
   "source": [
    "#Solution1\n",
    "input_string=input()\n",
    "new_str=''\n",
    "for c in input_string:\n",
    "    if (c.isalpha()):\n",
    "        if c.isupper():\n",
    "            new_str=new_str+c.lower()\n",
    "        else:\n",
    "            new_str=new_str+c.upper()\n",
    "print(new_str)"
   ]
  },
  {
   "cell_type": "code",
   "execution_count": 37,
   "metadata": {},
   "outputs": [
    {
     "name": "stdout",
     "output_type": "stream",
     "text": [
      "Programming1234\n",
      "pROGRAMMING"
     ]
    }
   ],
   "source": [
    "#Solution2\n",
    "input_string=input()\n",
    "for i in input_string:\n",
    "    if i.isalpha():\n",
    "        print(i.swapcase(), end ='')"
   ]
  }
 ],
 "metadata": {
  "kernelspec": {
   "display_name": "Python 3",
   "language": "python",
   "name": "python3"
  },
  "language_info": {
   "codemirror_mode": {
    "name": "ipython",
    "version": 3
   },
   "file_extension": ".py",
   "mimetype": "text/x-python",
   "name": "python",
   "nbconvert_exporter": "python",
   "pygments_lexer": "ipython3",
   "version": "3.8.5"
  }
 },
 "nbformat": 4,
 "nbformat_minor": 4
}

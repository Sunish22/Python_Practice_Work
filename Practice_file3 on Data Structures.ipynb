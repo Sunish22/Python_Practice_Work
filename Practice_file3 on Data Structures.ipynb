{
 "cells": [
  {
   "cell_type": "markdown",
   "metadata": {},
   "source": [
    "### List sum\n",
    "#### Description\n",
    "Suppose you want to know the total score of the Indian cricket team in a given match. To do so, your task is to find the sum of all the scores of the Indian team players. The scores are provided as a list, with each element as an individual score of the players. Also, there is a condition that if the number of elements in the list is more than 11, then it is an invalid input and the output should be -1.\n",
    "\n",
    "#### Input - List\n",
    "#### Output - An integer\n",
    "\n",
    "##### ------------------------------------------------------------------------------------------------------------\n",
    "\n",
    "\n",
    "##### Sample Input : [11, 13, 101, 14, 33, 141]\n",
    "\n",
    "##### Sample Output : 313\n",
    "\n",
    "\n",
    "##### Sample Input : [11, 13, 101, 14, 33, 141, 12, 144, 54, 67, 8, 11]\n",
    "\n",
    "###### Sample Output : -1\n",
    "\n",
    "\n",
    "###### Sample Input : [100, 80, 30, 10, 0, 1, 2, 0]\n",
    "\n",
    "##### Sample Output : 223\n"
   ]
  },
  {
   "cell_type": "code",
   "execution_count": 13,
   "metadata": {},
   "outputs": [
    {
     "name": "stdout",
     "output_type": "stream",
     "text": [
      "55,54,98,78,63,20,10,11\n",
      "389\n"
     ]
    }
   ],
   "source": [
    "inp = input()\n",
    "ind_score = list(inp.split(','))\n",
    "total = 0\n",
    "if len(ind_score)>11:\n",
    "        print('-1')\n",
    "else:\n",
    "    for i in ind_score:\n",
    "        total = total + int(i)\n",
    "print(total)\n"
   ]
  },
  {
   "cell_type": "markdown",
   "metadata": {},
   "source": [
    "### Length of list elements\n",
    "#### Description\n",
    "Given a list of strings, write a program to find the number of strings whose length is greater than or equal to K, where K is a positive integer.\n",
    "\n",
    "#### Input - List of strings and an integer\n",
    "\n",
    "#### Output - Integer\n",
    "##### -------------------------------------------------------------------------------------------------------------------------------------------\n",
    "\n",
    "##### Sample Input :\n",
    "\n",
    "[Mumbai, Hyderabad, Calicut, Chennai]\n",
    "\n",
    "  9\n",
    "\n",
    "##### Sample Output: \n",
    "1\n",
    "\n",
    "##### Sample Input :\n",
    "\n",
    "[Datascience, Data Analyst, Programmer, Manager]\n",
    "\n",
    "  8\n",
    "\n",
    "##### Sample Output :\n",
    "3"
   ]
  },
  {
   "cell_type": "code",
   "execution_count": 94,
   "metadata": {},
   "outputs": [
    {
     "name": "stdout",
     "output_type": "stream",
     "text": [
      "please enter the Input list  Datascience, Data Analyst, Programmer, Manager\n",
      "Please enter a positive integer  8\n",
      "['Datascience,', 'Data', 'Analyst,', 'Programmer,', 'Manager']\n",
      "3\n"
     ]
    }
   ],
   "source": [
    "inp = list(input(\"please enter the Input list  \").split(' '))\n",
    "chck = int(input(\"Please enter a positive integer  \"))\n",
    "print(inp)\n",
    "output = []\n",
    "for i in inp:\n",
    "    if len(i)>= int(chck):\n",
    "        output.append(i)\n",
    "print(len(output))  \n"
   ]
  },
  {
   "cell_type": "markdown",
   "metadata": {},
   "source": [
    "### Increment list elements\n",
    "#### Description\n",
    "Given a list of strings, increment the value of the numeric strings by 'k’. \n",
    "\n",
    "Hint: The function isdigit() may be useful here.\n",
    "\n",
    "#### Input - A list in the first line and an integer in the second line\n",
    "\n",
    "#### Output - A list\n",
    "\n",
    "##### Sample Input :\n",
    "\n",
    "['Python', '123', 'Data']\n",
    "\n",
    "  4\n",
    "\n",
    "##### Sample Output : ['Python', '127', 'Data']\n",
    "\n",
    "\n",
    "##### Sample Input :\n",
    "\n",
    "['Filmcity', '1978', 'Mumbai']\n",
    "\n",
    "  0\n",
    "\n",
    "##### Sample Output :\n",
    "['Filmcity', '1978', 'Mumbai']\n",
    "\n",
    "##### Sample Input :\n",
    "\n",
    "['Data Science', '100', '10']\n",
    "\n",
    "  10\n",
    "\n",
    "##### Sample Output :\n",
    "['Data Science', '110', '20']\n"
   ]
  },
  {
   "cell_type": "code",
   "execution_count": 9,
   "metadata": {},
   "outputs": [
    {
     "name": "stdout",
     "output_type": "stream",
     "text": [
      "['Data Science', '100', '10']\n",
      "10\n",
      "['Data Science', '110', '20']\n"
     ]
    }
   ],
   "source": [
    "import ast\n",
    "input_list = ast.literal_eval(input())\n",
    "K = int(input())\n",
    "result = []\n",
    "for i in input_list:\n",
    "    if i.isdigit():\n",
    "        i = int(i)+K\n",
    "        result.append(str(i))\n",
    "    else:\n",
    "        result.append(i)\n",
    "print(result)"
   ]
  },
  {
   "cell_type": "markdown",
   "metadata": {},
   "source": [
    "### Slicing a list\n",
    "#### Description\n",
    "Given a list of strings and an integer K, write a python code to print all the elements from the K th position till the end of the list.\n",
    "\n",
    "Note: Assume that K (a positive integer) will always be less than or equal to the length of the list\n",
    "\n",
    "#### Input - A list of strings in the first line and an integer in the second line of the input.\n",
    "\n",
    "#### Output - A list\n",
    "\n",
    "##### Sample Input :\n",
    "\n",
    "['Mumbai', 'Delhi', 'Australia', 'Nigeria', 'USA', 'London', 'Canada']\n",
    "\n",
    "2\n",
    "\n",
    "##### Sample Output :\n",
    "['Delhi', 'Australia', 'Nigeria', 'USA', 'London', 'Canada']\n",
    "\n",
    "##### Sample Input :\n",
    "\n",
    "['Chennai', 'Vizag', 'Austria', 'Germany', 'Japan']\n",
    "\n",
    "3\n",
    "\n",
    "#### Sample Output :\n",
    "['Austria', 'Germany', 'Japan']"
   ]
  },
  {
   "cell_type": "code",
   "execution_count": 63,
   "metadata": {},
   "outputs": [
    {
     "name": "stdout",
     "output_type": "stream",
     "text": [
      "['Mumbai', 'Delhi', 'Australia', 'Nigeria', 'USA', 'London', 'Canada']\n",
      "2\n"
     ]
    },
    {
     "data": {
      "text/plain": [
       "['Delhi', 'Australia', 'Nigeria', 'USA', 'London', 'Canada']"
      ]
     },
     "execution_count": 63,
     "metadata": {},
     "output_type": "execute_result"
    }
   ],
   "source": [
    "#solution1\n",
    "import ast\n",
    "input_list = ast.literal_eval(input())\n",
    "k = int(input())\n",
    "\n",
    "def result(s):\n",
    "    del s[0:k-1]\n",
    "    return(s)\n",
    "\n",
    "result(input_list)"
   ]
  },
  {
   "cell_type": "code",
   "execution_count": 68,
   "metadata": {},
   "outputs": [
    {
     "name": "stdout",
     "output_type": "stream",
     "text": [
      "['Chennai', 'Vizag', 'Austria', 'Germany', 'Japan']\n",
      "3\n",
      "['Austria', 'Germany', 'Japan']\n"
     ]
    }
   ],
   "source": [
    "#solution2\n",
    "import ast\n",
    "input_lst = input()\n",
    "test_lst = ast.literal_eval(input_lst)\n",
    "K= int(input())\n",
    "\n",
    "print(test_lst[K-1:len(test_lst)])\n"
   ]
  },
  {
   "cell_type": "markdown",
   "metadata": {},
   "source": [
    "### Substring with maximum uppercase characters\n",
    "#### Description\n",
    "Given a string, write a Python program to find the largest substring of uppercase characters and print the length of that substring. Check the sample inputs and outputs for a better understanding.\n",
    "\n",
    "#### Input - String\n",
    "\n",
    "#### Output - String\n",
    "\n",
    "##### Sample Input - I lovE PRogrAMMING\n",
    "\n",
    "##### Sample Output - 6\n",
    "\n",
    "Explanation - AMMING is the largest substring with all characters in uppercase continuously \n",
    "\n",
    "##### Sample Input - MuMbaI is in MAHArashTRA\n",
    "\n",
    "##### Sample Output - 4\n",
    "\n",
    "Explanation - MAHA is the largest substring with all characters in uppercase continuously.\n",
    "\n",
    "#### Sample Input - India WOn the WOrLD CUP\n",
    "\n",
    "#### Sample Output - 3\n",
    "\n",
    "Explanation - CUP is the largest substring with all characters in uppercase continuously."
   ]
  },
  {
   "cell_type": "code",
   "execution_count": 142,
   "metadata": {},
   "outputs": [
    {
     "name": "stdout",
     "output_type": "stream",
     "text": [
      "I lovE PRogrAMMING\n",
      "6\n"
     ]
    }
   ],
   "source": [
    "test_str = input()\n",
    "k = []\n",
    "count = 0\n",
    "for i in test_str:\n",
    "    if i.isupper():\n",
    "        count+=1\n",
    "        k.append(count)\n",
    "    else:\n",
    "        count=0\n",
    "print(max(k))\n",
    "        "
   ]
  },
  {
   "cell_type": "markdown",
   "metadata": {},
   "source": [
    "### Sorting list of tuples\n",
    "#### Description\n",
    "A class of students attempt an exam in two parts: ‘Aptitude’ and ‘Physics'. The marks of all the students are stored as a list of tuples, and each student’s marks (in Aptitude and Physics) are stored in each tuple. Your task is to write a Python program to sort the list of tuples in decreasing order of the Physics scores of the students.\n",
    "\n",
    "Note - Marks of both the subjects are ranged between 1-100, and no two students have scored the same marks in Physics.\n",
    "\n",
    "#### Input - List of tuples\n",
    "\n",
    "#### Output - List of tuples\n",
    "\n",
    "##### ---------------------------------------------------------------------------------------------------\n",
    "##### Sample Input - [(45,77), (88,87), (67,98), (33,31)]\n",
    "\n",
    "In (45,77), which is the first element in the list, 45 and 77 are the scores of a student in aptitude and physics respectively.\n",
    "\n",
    "##### Sample Output - [ (67,98), (88,87), (45,77),(33,31)]\n",
    "\n",
    "\n",
    "##### Sample Input - [(45,23), (45,88), (45,98), (45,44)]\n",
    "\n",
    "##### Sample Output - [ (45,98), (45,88), (45,44),(45,23)]\n",
    "\n",
    "##### Sample Input - [(55,77), (34,90), (67,100), (90,0)]\n",
    "\n",
    "##### Sample Output - [ (67,100), (34,90), (55,77),(90,0)]"
   ]
  },
  {
   "cell_type": "code",
   "execution_count": 42,
   "metadata": {},
   "outputs": [
    {
     "name": "stdout",
     "output_type": "stream",
     "text": [
      "[(55,77), (34,90), (67,100), (90,0)]\n",
      "[(67, 100), (34, 90), (55, 77), (90, 0)]\n"
     ]
    }
   ],
   "source": [
    "import ast\n",
    "inp = ast.literal_eval(input())\n",
    "z= []\n",
    "for x in inp:\n",
    "    z.append(list(x[::-1]))\n",
    "y = sorted(z, reverse=True)\n",
    "result = []\n",
    "for i in y:\n",
    "    result.append(tuple(i[::-1]))\n",
    "print(result)\n"
   ]
  },
  {
   "cell_type": "markdown",
   "metadata": {},
   "source": [
    "### Divisibility check\n",
    "#### Description\n",
    "Given an integer ‘n’, your task is to write a Python code to find whether ‘n’ is divisible by all its digits or not. If they divide the number, then the number ‘n’ is a happy number. Otherwise, it is a sad number.\n",
    "\n",
    "The number ‘n’ may be provided with commas. At first, you have to clean the number (by removing the commas involved) and then check whether the number is happy or sad.\n",
    "\n",
    "#### Input - String\n",
    "\n",
    "#### Output - String\n",
    "\n",
    "###### -------------------------------------------------------------------------------------------------------------------------------------------------------------------------------\n",
    "\n",
    "##### Sample Input - 2,128\n",
    "\n",
    "##### Sample Output - Happy Number\n",
    "\n",
    "\n",
    "##### Sample Input - 256\n",
    "\n",
    "##### Sample Output - Sad Number\n",
    "\n",
    "\n",
    "##### Sample Input - 1124\n",
    "\n",
    "##### Sample Output - Happy Number\n"
   ]
  },
  {
   "cell_type": "code",
   "execution_count": 76,
   "metadata": {},
   "outputs": [
    {
     "name": "stdout",
     "output_type": "stream",
     "text": [
      "2,128\n",
      "num is 2128\n",
      "Happy Number\n"
     ]
    }
   ],
   "source": [
    "inp = input()\n",
    "num = \"\"\n",
    "for i in inp:\n",
    "    if i != ',' and i.isdigit():\n",
    "        num = num + i\n",
    "print(\"num is\", num )\n",
    "#print(type(num))\n",
    "#a =[]\n",
    "#b= []\n",
    "for x in num:\n",
    "    if int(num) % int(x) != 0:\n",
    "        print(\"Sad Number\")\n",
    "        break\n",
    "for y in num:\n",
    "        if int(num) % int(x) == 0:\n",
    "            print(\"Happy Number\")\n",
    "            break\n"
   ]
  },
  {
   "cell_type": "markdown",
   "metadata": {},
   "source": [
    "### Updating the dictionary keys\n",
    "#### Description\n",
    "You are provided with a dictionary containing the names of different football clubs as keys and the name of the main player of the corresponding team as values. When the main player of a team retires, one of their teammates steps up to fill in their role as the main player.\n",
    "\n",
    "You’re also provided with a list which contains the names of the football clubs for which the current main players are retiring and the names of the corresponding new main player. Your task is to update the values in the original dictionary with the names of the new main players.\n",
    "\n",
    "##### -------------------------------------------------------------------------------------------------------------------------------------------\n",
    "#### Input - The input consists of a dictionary with different football clubs' names and their main player. In the next line, you will be provided with a list of the new players who have taken up the main roles.\n",
    "\n",
    "#### Output - Dictionary\n",
    "\n",
    "##### Sample Input :\n",
    "\n",
    "{'Barcelona':'Messi' , 'Real Madrid': 'Benzema', 'PSG': 'Neymar' }\n",
    "\n",
    "[[‘Barcelona’, ‘Griezmann’], [‘PSG’, ‘Ramos’]]\n",
    "\n",
    "##### Sample Output: {Barcelona:‘Griezmann’, ‘Real Madrid’: ‘Benzema’, ‘PSG’: ‘Ramos’}\n",
    "\n",
    "\n",
    "##### Sample Input:\n",
    "\n",
    "{Liverpool:’A’, ‘Real Madrid’: ‘B’, ‘Chelsea’: ‘C’ }\n",
    "\n",
    "[[Liverpool, ‘R’]]\n",
    "\n",
    "\n",
    "##### Sample Output: {Liverpool:’R’, ‘Real Madrid’: ‘B’, ‘Chelsea’: ‘C’ }\n",
    "\n",
    "\n",
    "##### Sample Input :\n",
    "\n",
    " {Atletico Madrid : ’D’ , ‘Juventus’: ‘B’, ‘Chelsea’: ‘C’ }\n",
    "\n",
    "[[‘Juventus’, ‘G’], [‘Chelsea’, ‘H’]]\n",
    "\n",
    "\n",
    "##### Sample Output: {Atletico Madrid : ’D’, ‘Juventus’: ‘G’, ‘Chelsea’: ‘H’ }"
   ]
  },
  {
   "cell_type": "code",
   "execution_count": 73,
   "metadata": {},
   "outputs": [
    {
     "name": "stdout",
     "output_type": "stream",
     "text": [
      "{'Barcelona':'Messi' , 'Real Madrid': 'Benzema', 'PSG': 'Neymar' }\n",
      "[['Barcelona', 'Griezmann'], ['PSG', 'Ramos']]\n",
      "{'Barcelona': 'Griezmann', 'Real Madrid': 'Benzema', 'PSG': 'Ramos'}\n"
     ]
    }
   ],
   "source": [
    "import ast\n",
    "#reading the input dictionary\n",
    "input_dictionary = input()\n",
    "convert_dictionary = ast.literal_eval(input_dictionary)\n",
    "\n",
    "#reading the input list\n",
    "input_list = input()\n",
    "convert_list = ast.literal_eval(input_list)\n",
    "\n",
    "for x in convert_dictionary:\n",
    "    for z in convert_list:\n",
    "        if x == z[0]:\n",
    "            convert_dictionary[x]=z[1]\n",
    "print(convert_dictionary)\n",
    "\n",
    "\n"
   ]
  },
  {
   "cell_type": "markdown",
   "metadata": {},
   "source": [
    "### List average\n",
    "#### Description\n",
    "Suppose you are working as a Marketing Lead in a company and you want to recruit new employees in your team (which already consists of 10 members) to carry out the company’s major project. You select the employees based on five parameters: A, B, C, D and E. The value of each parameter is represented on a scale of 1 to 10. The present average value of these parameters for your team is given to you in a list (in the same order). You recruit a person only if their scores do not reduce the average score of more than two parameters of your team. If they are recruited, print the output as ‘Selected’. If not, print the output as ‘Rejected’.\n",
    "\n",
    "#### Input - Two lists, where the first list is the average scores of the team in the five parameters, and the second list is the scores of the new employee in all the five parameters. The parameter order is the same for both the lists, which is A, B, C, D and E.\n",
    "#### Output - String\n",
    "\n",
    "##### Sample Input - [‘8’, ‘4’, ‘6’, ‘9’, ‘7’]\n",
    "[‘1’, ‘1.1’, ‘1.2’, ‘1.2’, ‘2.3’]\n",
    "\n",
    "##### Sample Output - Rejected\n",
    "\n",
    "##### Sample Input - [‘10’, ‘5’, ‘6’, ‘9’, ‘7’]\n",
    "[‘10’, ‘ 9.8’, ‘7.2’, ‘1.66’, ‘4.3’]\n",
    "\n",
    "##### Sample Output - Selected\n",
    "\n",
    "##### Sample Input - [‘8’, ‘5.66’, ‘6.5’, ‘10’, ‘10’]\n",
    "[‘7’, ‘ 10’, ‘6’, ‘7’, ‘9’]\n",
    "\n",
    "##### Sample Output - Rejected¶"
   ]
  },
  {
   "cell_type": "code",
   "execution_count": 79,
   "metadata": {},
   "outputs": [
    {
     "name": "stdout",
     "output_type": "stream",
     "text": [
      "['8', '4', '6', '9', '7']\n",
      "['1', '1.1','1.2', '1.2', '2.3']\n",
      "Rejected\n"
     ]
    }
   ],
   "source": [
    "#Solution 1\n",
    "import ast\n",
    "avg_lst = input()\n",
    "inp_lst = input()\n",
    "avg_lst = ast.literal_eval(avg_lst)\n",
    "inp_lst = ast.literal_eval(inp_lst)\n",
    "count = 0\n",
    "for x in range(len(inp_lst)):\n",
    "    if (float(avg_lst[x]) > float(inp_lst[x])):\n",
    "        count+=1\n",
    "#print(count)\n",
    "if count > 2:\n",
    "    print(\"Rejected\")\n",
    "else:\n",
    "    print(\"Selected\")"
   ]
  },
  {
   "cell_type": "code",
   "execution_count": 80,
   "metadata": {},
   "outputs": [
    {
     "name": "stdout",
     "output_type": "stream",
     "text": [
      "['10', '5', '6', '9', '7']\n",
      "['10', ' 9.8', '7.2', '1.66', '4.3']\n",
      "Selected\n"
     ]
    }
   ],
   "source": [
    "#solution2\n",
    "import ast \n",
    "i=input() \n",
    "i=ast.literal_eval(i) \n",
    "j=input() \n",
    "j=ast.literal_eval(j) \n",
    "c=[(float(i[a])*10+float(j[a]))/11 for a in range(len(i))] \n",
    "count=0 \n",
    "for d in range(len(i)): \n",
    "    if (float(i[d]) > float(c[d])): \n",
    "        count+=1 \n",
    "if count>2:\n",
    "    print('Rejected')\n",
    "else:\n",
    "    print('Selected')"
   ]
  },
  {
   "cell_type": "markdown",
   "metadata": {},
   "source": [
    "### Merge dictionaries\n",
    "#### Description\n",
    "Write a python code to merge two dictionaries into a single dictionary.\n",
    "\n",
    "#### Input: Two dictionaries, one in each line\n",
    "#### Output: A Dictionary\n",
    "\n",
    "#### Sample Input :\n",
    "{'a': 10, 'b': 8}\n",
    "\n",
    "{'d': 6, 'c': 4}\n",
    "\n",
    "#### Sample Output : {'c': 4, 'a': 10, 'b': 8, 'd': 6}\n",
    "\n",
    "##### Sample Input :\n",
    "{'a': 110, 'b': 88}\n",
    "\n",
    "{'d': 62, 'c': 44}\n",
    "\n",
    "##### Sample Output : {'a': 110, 'b': 88, 'd': 62, 'c': 44}"
   ]
  },
  {
   "cell_type": "code",
   "execution_count": 81,
   "metadata": {},
   "outputs": [
    {
     "name": "stdout",
     "output_type": "stream",
     "text": [
      "{'a': 110, 'b': 88}\n",
      "{'d': 62, 'c': 44}\n",
      "{'a': 110, 'b': 88, 'd': 62, 'c': 44}\n"
     ]
    }
   ],
   "source": [
    "import ast\n",
    "inputA = input()\n",
    "inputB = input()\n",
    "inputA = ast.literal_eval(inputA)\n",
    "inputB = ast.literal_eval(inputB)\n",
    "inputA.update(inputB)\n",
    "print(inputA)"
   ]
  },
  {
   "cell_type": "code",
   "execution_count": null,
   "metadata": {},
   "outputs": [],
   "source": []
  }
 ],
 "metadata": {
  "kernelspec": {
   "display_name": "Python 3",
   "language": "python",
   "name": "python3"
  },
  "language_info": {
   "codemirror_mode": {
    "name": "ipython",
    "version": 3
   },
   "file_extension": ".py",
   "mimetype": "text/x-python",
   "name": "python",
   "nbconvert_exporter": "python",
   "pygments_lexer": "ipython3",
   "version": "3.8.5"
  }
 },
 "nbformat": 4,
 "nbformat_minor": 4
}
